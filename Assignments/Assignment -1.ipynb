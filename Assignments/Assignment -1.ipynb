{
 "cells": [
  {
   "cell_type": "markdown",
   "id": "5a5b294e",
   "metadata": {},
   "source": [
    "# Task-1"
   ]
  },
  {
   "cell_type": "code",
   "execution_count": 2,
   "id": "1698fb37",
   "metadata": {},
   "outputs": [],
   "source": [
    "import pandas as pd \n",
    "import numpy as np\n",
    "d1=pd.Series(np.random.rand(4))\n",
    "d2=pd.Series(np.random.rand(4))\n",
    "d3=pd.Series(np.random.rand(4))\n",
    "d4=pd.Series(np.random.rand(4))"
   ]
  },
  {
   "cell_type": "code",
   "execution_count": 3,
   "id": "d2f1869f",
   "metadata": {},
   "outputs": [
    {
     "data": {
      "text/html": [
       "<div>\n",
       "<style scoped>\n",
       "    .dataframe tbody tr th:only-of-type {\n",
       "        vertical-align: middle;\n",
       "    }\n",
       "\n",
       "    .dataframe tbody tr th {\n",
       "        vertical-align: top;\n",
       "    }\n",
       "\n",
       "    .dataframe thead th {\n",
       "        text-align: right;\n",
       "    }\n",
       "</style>\n",
       "<table border=\"1\" class=\"dataframe\">\n",
       "  <thead>\n",
       "    <tr style=\"text-align: right;\">\n",
       "      <th></th>\n",
       "      <th>0</th>\n",
       "      <th>1</th>\n",
       "      <th>2</th>\n",
       "      <th>3</th>\n",
       "    </tr>\n",
       "  </thead>\n",
       "  <tbody>\n",
       "    <tr>\n",
       "      <th>0</th>\n",
       "      <td>0.951232</td>\n",
       "      <td>0.510199</td>\n",
       "      <td>0.466709</td>\n",
       "      <td>0.525826</td>\n",
       "    </tr>\n",
       "    <tr>\n",
       "      <th>1</th>\n",
       "      <td>0.553550</td>\n",
       "      <td>0.378724</td>\n",
       "      <td>0.003306</td>\n",
       "      <td>0.285775</td>\n",
       "    </tr>\n",
       "    <tr>\n",
       "      <th>2</th>\n",
       "      <td>0.643907</td>\n",
       "      <td>0.732335</td>\n",
       "      <td>0.453974</td>\n",
       "      <td>0.512890</td>\n",
       "    </tr>\n",
       "    <tr>\n",
       "      <th>3</th>\n",
       "      <td>0.758305</td>\n",
       "      <td>0.118171</td>\n",
       "      <td>0.352106</td>\n",
       "      <td>0.083175</td>\n",
       "    </tr>\n",
       "  </tbody>\n",
       "</table>\n",
       "</div>"
      ],
      "text/plain": [
       "          0         1         2         3\n",
       "0  0.951232  0.510199  0.466709  0.525826\n",
       "1  0.553550  0.378724  0.003306  0.285775\n",
       "2  0.643907  0.732335  0.453974  0.512890\n",
       "3  0.758305  0.118171  0.352106  0.083175"
      ]
     },
     "execution_count": 3,
     "metadata": {},
     "output_type": "execute_result"
    }
   ],
   "source": [
    "df = pd.DataFrame([d1,d2,d3,d4])\n",
    "df"
   ]
  },
  {
   "cell_type": "markdown",
   "id": "5a6de31e",
   "metadata": {},
   "source": [
    "# Task 2"
   ]
  },
  {
   "cell_type": "code",
   "execution_count": 6,
   "id": "31c22ae9",
   "metadata": {},
   "outputs": [
    {
     "data": {
      "text/html": [
       "<div>\n",
       "<style scoped>\n",
       "    .dataframe tbody tr th:only-of-type {\n",
       "        vertical-align: middle;\n",
       "    }\n",
       "\n",
       "    .dataframe tbody tr th {\n",
       "        vertical-align: top;\n",
       "    }\n",
       "\n",
       "    .dataframe thead th {\n",
       "        text-align: right;\n",
       "    }\n",
       "</style>\n",
       "<table border=\"1\" class=\"dataframe\">\n",
       "  <thead>\n",
       "    <tr style=\"text-align: right;\">\n",
       "      <th></th>\n",
       "      <th>Random Value 1</th>\n",
       "      <th>Random Value 2</th>\n",
       "      <th>Random Value 3</th>\n",
       "      <th>Random Value 4</th>\n",
       "    </tr>\n",
       "  </thead>\n",
       "  <tbody>\n",
       "    <tr>\n",
       "      <th>0</th>\n",
       "      <td>0.951232</td>\n",
       "      <td>0.510199</td>\n",
       "      <td>0.466709</td>\n",
       "      <td>0.525826</td>\n",
       "    </tr>\n",
       "    <tr>\n",
       "      <th>1</th>\n",
       "      <td>0.553550</td>\n",
       "      <td>0.378724</td>\n",
       "      <td>0.003306</td>\n",
       "      <td>0.285775</td>\n",
       "    </tr>\n",
       "    <tr>\n",
       "      <th>2</th>\n",
       "      <td>0.643907</td>\n",
       "      <td>0.732335</td>\n",
       "      <td>0.453974</td>\n",
       "      <td>0.512890</td>\n",
       "    </tr>\n",
       "    <tr>\n",
       "      <th>3</th>\n",
       "      <td>0.758305</td>\n",
       "      <td>0.118171</td>\n",
       "      <td>0.352106</td>\n",
       "      <td>0.083175</td>\n",
       "    </tr>\n",
       "  </tbody>\n",
       "</table>\n",
       "</div>"
      ],
      "text/plain": [
       "   Random Value 1  Random Value 2  Random Value 3  Random Value 4\n",
       "0        0.951232        0.510199        0.466709        0.525826\n",
       "1        0.553550        0.378724        0.003306        0.285775\n",
       "2        0.643907        0.732335        0.453974        0.512890\n",
       "3        0.758305        0.118171        0.352106        0.083175"
      ]
     },
     "execution_count": 6,
     "metadata": {},
     "output_type": "execute_result"
    }
   ],
   "source": [
    "df.rename(columns={0:'Random Value 1',1:'Random Value 2',2:'Random Value 3',3:'Random Value 4'},inplace=True)\n",
    "df"
   ]
  },
  {
   "cell_type": "markdown",
   "id": "108a7c2a",
   "metadata": {},
   "source": [
    "# Task 3"
   ]
  },
  {
   "cell_type": "code",
   "execution_count": 7,
   "id": "2d62ccd7",
   "metadata": {},
   "outputs": [
    {
     "data": {
      "text/html": [
       "<div>\n",
       "<style scoped>\n",
       "    .dataframe tbody tr th:only-of-type {\n",
       "        vertical-align: middle;\n",
       "    }\n",
       "\n",
       "    .dataframe tbody tr th {\n",
       "        vertical-align: top;\n",
       "    }\n",
       "\n",
       "    .dataframe thead th {\n",
       "        text-align: right;\n",
       "    }\n",
       "</style>\n",
       "<table border=\"1\" class=\"dataframe\">\n",
       "  <thead>\n",
       "    <tr style=\"text-align: right;\">\n",
       "      <th></th>\n",
       "      <th>Random Value 1</th>\n",
       "      <th>Random Value 2</th>\n",
       "      <th>Random Value 3</th>\n",
       "      <th>Random Value 4</th>\n",
       "    </tr>\n",
       "  </thead>\n",
       "  <tbody>\n",
       "    <tr>\n",
       "      <th>count</th>\n",
       "      <td>4.000000</td>\n",
       "      <td>4.000000</td>\n",
       "      <td>4.000000</td>\n",
       "      <td>4.000000</td>\n",
       "    </tr>\n",
       "    <tr>\n",
       "      <th>mean</th>\n",
       "      <td>0.726748</td>\n",
       "      <td>0.434857</td>\n",
       "      <td>0.319024</td>\n",
       "      <td>0.351916</td>\n",
       "    </tr>\n",
       "    <tr>\n",
       "      <th>std</th>\n",
       "      <td>0.171512</td>\n",
       "      <td>0.256652</td>\n",
       "      <td>0.216637</td>\n",
       "      <td>0.210359</td>\n",
       "    </tr>\n",
       "    <tr>\n",
       "      <th>min</th>\n",
       "      <td>0.553550</td>\n",
       "      <td>0.118171</td>\n",
       "      <td>0.003306</td>\n",
       "      <td>0.083175</td>\n",
       "    </tr>\n",
       "    <tr>\n",
       "      <th>25%</th>\n",
       "      <td>0.621317</td>\n",
       "      <td>0.313586</td>\n",
       "      <td>0.264906</td>\n",
       "      <td>0.235125</td>\n",
       "    </tr>\n",
       "    <tr>\n",
       "      <th>50%</th>\n",
       "      <td>0.701106</td>\n",
       "      <td>0.444462</td>\n",
       "      <td>0.403040</td>\n",
       "      <td>0.399332</td>\n",
       "    </tr>\n",
       "    <tr>\n",
       "      <th>75%</th>\n",
       "      <td>0.806537</td>\n",
       "      <td>0.565733</td>\n",
       "      <td>0.457158</td>\n",
       "      <td>0.516124</td>\n",
       "    </tr>\n",
       "    <tr>\n",
       "      <th>max</th>\n",
       "      <td>0.951232</td>\n",
       "      <td>0.732335</td>\n",
       "      <td>0.466709</td>\n",
       "      <td>0.525826</td>\n",
       "    </tr>\n",
       "  </tbody>\n",
       "</table>\n",
       "</div>"
      ],
      "text/plain": [
       "       Random Value 1  Random Value 2  Random Value 3  Random Value 4\n",
       "count        4.000000        4.000000        4.000000        4.000000\n",
       "mean         0.726748        0.434857        0.319024        0.351916\n",
       "std          0.171512        0.256652        0.216637        0.210359\n",
       "min          0.553550        0.118171        0.003306        0.083175\n",
       "25%          0.621317        0.313586        0.264906        0.235125\n",
       "50%          0.701106        0.444462        0.403040        0.399332\n",
       "75%          0.806537        0.565733        0.457158        0.516124\n",
       "max          0.951232        0.732335        0.466709        0.525826"
      ]
     },
     "execution_count": 7,
     "metadata": {},
     "output_type": "execute_result"
    }
   ],
   "source": [
    "df.describe()"
   ]
  },
  {
   "cell_type": "markdown",
   "id": "ce35cd64",
   "metadata": {},
   "source": [
    "# Task 4"
   ]
  },
  {
   "cell_type": "code",
   "execution_count": 10,
   "id": "54b32674",
   "metadata": {},
   "outputs": [
    {
     "data": {
      "text/plain": [
       "Random Value 1    False\n",
       "Random Value 2    False\n",
       "Random Value 3    False\n",
       "Random Value 4    False\n",
       "dtype: bool"
      ]
     },
     "execution_count": 10,
     "metadata": {},
     "output_type": "execute_result"
    }
   ],
   "source": [
    "df.isnull().all()"
   ]
  },
  {
   "cell_type": "code",
   "execution_count": 11,
   "id": "f848878f",
   "metadata": {},
   "outputs": [
    {
     "data": {
      "text/plain": [
       "dtype('float64')"
      ]
     },
     "execution_count": 11,
     "metadata": {},
     "output_type": "execute_result"
    }
   ],
   "source": [
    "df['Random Value 1'].dtype"
   ]
  },
  {
   "cell_type": "code",
   "execution_count": 12,
   "id": "a8ec2b5c",
   "metadata": {},
   "outputs": [
    {
     "data": {
      "text/plain": [
       "dtype('float64')"
      ]
     },
     "execution_count": 12,
     "metadata": {},
     "output_type": "execute_result"
    }
   ],
   "source": [
    "df['Random Value 2'].dtype"
   ]
  },
  {
   "cell_type": "code",
   "execution_count": 13,
   "id": "9b380c83",
   "metadata": {},
   "outputs": [
    {
     "data": {
      "text/plain": [
       "dtype('float64')"
      ]
     },
     "execution_count": 13,
     "metadata": {},
     "output_type": "execute_result"
    }
   ],
   "source": [
    "df['Random Value 3'].dtype"
   ]
  },
  {
   "cell_type": "code",
   "execution_count": 16,
   "id": "8cb4cfa7",
   "metadata": {},
   "outputs": [
    {
     "data": {
      "text/plain": [
       "dtype('float64')"
      ]
     },
     "execution_count": 16,
     "metadata": {},
     "output_type": "execute_result"
    }
   ],
   "source": [
    "df['Random Value 4'].dtype"
   ]
  },
  {
   "cell_type": "markdown",
   "id": "bbf6c8ec",
   "metadata": {},
   "source": [
    "# Task 5"
   ]
  },
  {
   "cell_type": "code",
   "execution_count": 18,
   "id": "eb7794a5",
   "metadata": {},
   "outputs": [
    {
     "data": {
      "text/plain": [
       "0    0.510199\n",
       "1    0.378724\n",
       "2    0.732335\n",
       "3    0.118171\n",
       "Name: Random Value 2, dtype: float64"
      ]
     },
     "execution_count": 18,
     "metadata": {},
     "output_type": "execute_result"
    }
   ],
   "source": [
    "df.loc[0:,'Random Value 2']"
   ]
  },
  {
   "cell_type": "code",
   "execution_count": 19,
   "id": "a3fbdeac",
   "metadata": {},
   "outputs": [
    {
     "data": {
      "text/plain": [
       "0    0.466709\n",
       "1    0.003306\n",
       "2    0.453974\n",
       "3    0.352106\n",
       "Name: Random Value 3, dtype: float64"
      ]
     },
     "execution_count": 19,
     "metadata": {},
     "output_type": "execute_result"
    }
   ],
   "source": [
    "df.iloc[0:,2]"
   ]
  },
  {
   "cell_type": "code",
   "execution_count": null,
   "id": "2f4abe63",
   "metadata": {},
   "outputs": [],
   "source": []
  }
 ],
 "metadata": {
  "kernelspec": {
   "display_name": "Python 3",
   "language": "python",
   "name": "python3"
  },
  "language_info": {
   "codemirror_mode": {
    "name": "ipython",
    "version": 3
   },
   "file_extension": ".py",
   "mimetype": "text/x-python",
   "name": "python",
   "nbconvert_exporter": "python",
   "pygments_lexer": "ipython3",
   "version": "3.8.8"
  }
 },
 "nbformat": 4,
 "nbformat_minor": 5
}
